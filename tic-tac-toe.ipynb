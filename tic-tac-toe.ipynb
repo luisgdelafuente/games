{
  "cells": [
    {
      "cell_type": "code",
      "execution_count": 5,
      "metadata": {},
      "outputs": [
        {
          "data": {
            "image/png": "[encoded data removed]",
            "text/plain": [
              "<Figure size 600x600 with 1 Axes>"
            ]
          },
          "metadata": {},
          "output_type": "display_data"
        },
        {
          "name": "stdout",
          "output_type": "stream",
          "text": [
            "It's a draw!\n"
          ]
        }
      ],
      "source": [
        "import random\n",
        "import matplotlib.pyplot as plt\n",
        "import numpy as np\n",
        "\n",
        "# Function to initialize the board\n",
        "def initialize_board():\n",
        "    return [[' ' for _ in range(3)] for _ in range(3)]\n",
        "\n",
        "# Modified draw_board function\n",
        "def draw_board(board, ax):\n",
        "    ax.cla()  # Clear the previous board\n",
        "    ax.matshow(np.zeros((3, 3)), cmap=\"Blues\", vmin=-1, vmax=1)\n",
        "\n",
        "    for i in range(3):\n",
        "        for j in range(3):\n",
        "            c = board[i][j]\n",
        "            ax.text(j, i, c, va='center', ha='center', fontsize=36)\n",
        "\n",
        "    ax.set_xticks([0.5, 1.5, 2.5])\n",
        "    ax.set_xticklabels([])\n",
        "    ax.set_yticks([0.5, 1.5, 2.5])\n",
        "    ax.set_yticklabels([])\n",
        "    ax.grid(color='black')\n",
        "    plt.pause(0.5)  # Pause to view each move\n",
        "    plt.show()\n",
        "\n",
        "# Function to check if there's a winner\n",
        "def check_winner(board, player):\n",
        "    # Check rows, columns, and diagonals\n",
        "    for i in range(3):\n",
        "        if all([board[i][j] == player for j in range(3)]) or \\\n",
        "           all([board[j][i] == player for j in range(3)]):\n",
        "            return True\n",
        "\n",
        "    if all([board[i][i] == player for i in range(3)]) or \\\n",
        "       all([board[i][2 - i] == player for i in range(3)]):\n",
        "        return True\n",
        "\n",
        "    return False\n",
        "\n",
        "# Function to check if the board is full\n",
        "def is_board_full(board):\n",
        "    return all(board[i][j] != ' ' for i in range(3) for j in range(3))\n",
        "\n",
        "# AI logic to make a move\n",
        "def ai_move(board, player):\n",
        "    available_moves = [(i, j) for i in range(3) for j in range(3) if board[i][j] == ' ']\n",
        "    move = random.choice(available_moves)\n",
        "    board[move[0]][move[1]] = player\n",
        "\n",
        "# Main function to play the game\n",
        "def play_game():\n",
        "    plt.ion()  # Turn on interactive mode\n",
        "    board = initialize_board()\n",
        "    fig, ax = plt.subplots(figsize=(6, 6))\n",
        "    players = ['X', 'O']\n",
        "    turn = 0\n",
        "    winner = None\n",
        "    while not winner and not is_board_full(board):\n",
        "        player = players[turn % 2]\n",
        "        ai_move(board, player)\n",
        "        draw_board(board, ax)\n",
        "        if check_winner(board, player):\n",
        "            winner = player\n",
        "        turn += 1\n",
        "\n",
        "    if winner:\n",
        "        print(f\"Player {winner} wins!\")\n",
        "    else:\n",
        "        print(\"It's a draw!\")\n",
        "        \n",
        "# Run the game\n",
        "play_game()"
      ]
    }
  ],
  "metadata": {
    "colab": {
      "authorship_tag": "ABX9TyMIZvgoQi/Q99pMrzWbVqkL",
      "include_colab_link": true,
      "provenance": []
    },
    "kernelspec": {
      "display_name": "Python 3",
      "name": "python3"
    },
    "language_info": {
      "codemirror_mode": {
        "name": "ipython",
        "version": 3
      },
      "file_extension": ".py",
      "mimetype": "text/x-python",
      "name": "python",
      "nbconvert_exporter": "python",
      "pygments_lexer": "ipython3",
      "version": "3.11.4"
    }
  },
  "nbformat": 4,
  "nbformat_minor": 0
}
