{
  "nbformat": 4,
  "nbformat_minor": 0,
  "metadata": {
    "colab": {
      "provenance": [],
      "authorship_tag": "ABX9TyP5hRpX8Y1Mrij7IO3IjPdV",
      "include_colab_link": true
    },
    "kernelspec": {
      "name": "python3",
      "display_name": "Python 3"
    },
    "language_info": {
      "name": "python"
    },
    "widgets": {
      "application/vnd.jupyter.widget-state+json": {
        "974abd4a429445768121685ed1eb7ad8": {
          "model_module": "@jupyter-widgets/output",
          "model_name": "OutputModel",
          "model_module_version": "1.0.0",
          "state": {
            "_dom_classes": [],
            "_model_module": "@jupyter-widgets/output",
            "_model_module_version": "1.0.0",
            "_model_name": "OutputModel",
            "_view_count": null,
            "_view_module": "@jupyter-widgets/output",
            "_view_module_version": "1.0.0",
            "_view_name": "OutputView",
            "layout": "IPY_MODEL_c1aadb4f7c7e4a02b699d462815390d1",
            "msg_id": "",
            "outputs": [
              {
                "output_type": "display_data",
                "data": {
                  "text/plain": "<Figure size 600x600 with 1 Axes>",
                  "image/png": "iVBORw0KGgoAAAANSUhEUgAAAeYAAAHrCAYAAAAaDT4RAAAAOXRFWHRTb2Z0d2FyZQBNYXRwbG90bGliIHZlcnNpb24zLjcuMSwgaHR0cHM6Ly9tYXRwbG90bGliLm9yZy/bCgiHAAAACXBIWXMAAA9hAAAPYQGoP6dpAAAo/klEQVR4nO3de3RU5b3/8c9MLkOuJIEkkHAzyDVQuRTQCgIB9WgFVKz3pS16pFYorcfWC+eUgEDrOke7FD0qUrXFVmihtVTbUolyqUZAEFwQ5RKugkDI/TaZJDO/P6r8zmQPkExmJs9k3q9/XHz3zPM8sB6/nzV79uxt83g8HgEAACPYO3oBAADg/yOYAQAwCMEMAIBBCGYAAAxCMAMAYBCCGQAAgxDMAAAYhGAGAMAgBDOM1tDQoPz8fDU0NHT0UtCJsc8QCq3dZzbu/AWTVVVVqWvXrqqsrFRycnJHLwedFPsModDafcYnZgAADEIwAwBgkGh/3+h2u3Xy5EklJSXJZrMFck3AOVVVVV7/BYKBfYZQqKyslPSv/LwQv79j/uKLL9S7d29/3goAQMQqLi5WTk7OeY/7/Yk5KSlJknTP8gLFxiX6OwxwQa76Gv3mgSnsMwQV+wyhUFN2WqvmTVe3bt0u+Dq/g/nr09excYmKjWcjI7jYZwgF9hmCKba+RpIu+vUvF38BAGAQghkAAIMQzAAAGIRgBgDAIAQzAAAGIZgBADAIwQwAgEEIZgAADEIwAwBgEIIZAACDEMwAABiEYAYAwCAEMwAABiGYAQAwCMEMAIBBCGYAAAxCMAMAYBCCGQAAgxDMAAAYhGAGAMAgBDMAAAYhmAEAMAjBDACAQQhmAAAMQjADAGAQghkAAIMQzAAAGIRgBgDAIAQzAAAGIZgBADAIwQwAgEEIZgAADEIwAwBgEIIZAACDEMwAABiEYAYAwCAEMwAABiGYAQAwCMEMAIBBCGYAAAxCMAMAYBCCGQAAgxDMAAAYhGAGAMAgBDMAAAYhmAEAMAjBDACAQQhmAAAMQjADAGAQghkAAIMQzAAAGCS6oxcAoP2c1RUqPXZA1ae/kLOmUk0up6KiYxQTl6ik9CylZl+i5MxeHb1MAK1AMANhqvLLo9q3cZ0ObStQ2fGDksdzwdcnpGWo76irNPCqacrK/WaIVgmgrQhmP21b9bw+/sOLXrXMgZfppsUrZY+K8ntcj8ejvzz5gL7Y/aFXffj1d2vCfY/7PS46j+qSkypc+YyKC9fL43a3+n21ZWdUtGGNijasUeaAb+iKex5R1tDRQVwpwgX9zCx8x+yn0bfMVvdLBnvVTu/frV3rXmvXuHvXr7Js4pSsfrri7h+3a1x0DkXv/kFv/mi6Dn7wtzaFckunD3yqt352rzYtX6TmRlcAV4hwRD8zC5+Y/RQVHaO8OUu15tHb5G5qPFffvvoF9Rs9SWl9Lm3zmJWnjunDlU971Wz2KOXNXapoR5d2rxnhy+PxaMuKxdrz91U+j9vsdvUYNEI9h4xWfGq64rqmqbGuRrXlJSo7dkBHP9miJmd9y0G1d/1qnT2yTzfMf1GOhOQQ/E1gIvqZWQjmdujeb5DG3PoDbf3ds+dqzY0uFTz/hGb+/HeyR7X+n9fjdqtg2ROW5jli+nfVY+BlAVszwtOml/JVtGGNpW6PjtGI6d/T8OvvVEJq+nnf39TgVHHhP1S48mnVVZz1OnZ63y6tW3i/Zix8TbFxCQFfO8ID/cwcnMpup5E33qeMAcO9aiXFe7Vj7fI2jbNr3es69fknXrW0PgM09vY57V4jwtuuda/7DOW0PgN169Nrdfld8y4YypIU7eiiQZOm647n3taACd+2HC8p3qsNzz4qz0UuIEPnRj8zA8HcTvaoKOXNWaKoWIdXfcfal3X28GetGqPs2EFtW7XMe9zoaE2Zu1RRMbEBWyvCz9kjn+uj3/7SUu/Wd6BmLHxVab36t2k8R0KSpv7wFxo0aYbl2JHt72vv+tV+rxXhj35mBoI5ANJ69de4O37oVXM3NWnDc09c9MIad3OTCpY9bnnd6JmzlZ4zNOBrRXjZ9NJCuZuavGpxyWmatmCF4pJT/RrTZrcr76HF6nXZtyzHCt94RvWVZX6Ni86BftbxCOYAueyGe9Rj8EivWtmx/dr++/+94Ps+XvOySg4VedXSc4Zq9MwHAr5GhJfD29/T6QOfWurjZz2m+K7d2jW2zW7XpNkLFO2I86o31tdq51u/atfYCH/0s45FMAeIzW7XlDlLLI3uk7de9dlcJelM8V7tbPHdTVRMrKbM/XmbLrRA5/TpO29Yalm5Y3x+R+yP5MxeGnnjLEv9sw1r1NhQ7+MdiBT0s45FMAdQ1559Lb/P87ibVbBsvppcDV715kaXCp57XO5m79OUY2+f49dPE9C5VJ85qRN7tlnqudfeFtB5hk69RTa79w0kXHU1OlT4bkDnQfihn3UcgjnAhl13p7KHjfWqVZw45PUTBEna+rvnVP5FsVctc9AIXTbtu8FeIsLAkR0bLbfY7JKUopyxUwI6z79u0znBx/ybAjoPwhP9rGMQzAFms9mU99ASxbT4Pein76zUl5/tkCR9+dkO7X77117Hox1xmjJnabtuf4fO4+Te7ZZa9rBxQbmqtc/I8db5fXxaR+Shn3UMgjkIkjKydOW9P/GqedxuFTw/X3WVpSp4fr7ldoqX3/1jpWT1DeUyYbCS4iJLLePSYUGZK71/rqVWX1WmmtJTQZkP4YV+FnoEc5AMvfo76j3iSq9a1anj+v3DN6vq1HGvevawsRp+3Z2hXB4M1tzoUlXJCUs9w0eABkL3foNlj7ZenFNx4khQ5kP4oZ+FFsEcRJN/8KTl/sMtb4cYE5egvIeWyGazhXJpMFht2Rmfj3BM6JYZlPmiYmLVJTHFUq85+2VQ5kN4op+FDsEcRIndMnXlrMcu+Jor7/2JkjKyQrQihANnTaXPemx8YtDmjI1PstQaaquCNh/CD/0sdAjmIBs8aYZ6+7jDkiT1GTlBQ6/+TohXBNM1u5w+68F8+pMjwRrMLX8SA9DPQoNgDrL6qnKdPbrP57H+V1wT4tUA5+Hj1CMPtEBL9LPQIJiDbPPyJ1VfUerz2Edv/JL7EsMiKtb3s2ob6qqDNmdDrXXsGJ6ZixboZ6FBMAfRgX/+VcWF6897vL6qTJtfWRzCFSEcnO+UtctHeAaKy8f3ycE8dY7wQz8LHYI5SOrKS3xu0pYX2RQXrtfBD8+/2RF5Ertl+jy1XFt2JijzNTe65KypsNQTuvUIynwIP/Sz0CKYg2TjS/lqaHF1be41tylvjnVzb3llMaeAcE5UTKyS0q1Xtp4p3huU+UqP7rc8WlKSUrL7BWU+hB/6WWgRzEHw+Xt/0pGPN3rVkjN66Vv3/Idyxk3VgPHXex371ymgJ0O4Qpgu/ZIhltqZg3uCMpevcbskpyqpe8+gzIfwQj8LPYI5wGpKT+mfrz3lXbTZNHnO4nP3m51w/3zFp3T3eklx4T908IO/h2qZMFxWiwcHSNKJPVsv+qB6fxzf9YGllp1rnR+Rh37WMQjmAHv/hf+Sq8XVs8Ovu0vZuWPO/blLUoomzl5gee/mFYtVV+n7ikdEln6jJ1pqzqpyHd7+fkDnqSsv0dGdmy31vt+0zo/IQz/rGARzAO1Zv1rHd3/oVevas68uv/tHltdeMjZPA6+a5lVzVpVr83JOAUFKzuylrP/T/L62d/2qgM5TVLDW8gzd2PhE9b/86oDOg/BDP+s4BHOAVJ3+QoW/+R+vms1uV96cJYpxxPl8z/j7Hld8arpX7dBH7+rAB38L2joRPoZff5eldmLPtoCdIqw+c1I7/7TCUh+Sd7NiusQHZA6EJ/pZxyKYA8Dj8ei9F/5Tjc46r/plN9yrnoNHnvd9XRK7apKPU0BbVizhFBCUM26qz0cybnl1qeqryts1tsft1saX89XkrPeqx8QlaNTN/96usRHe6Gcdj2AOgE/fWWl5sH1qrxyNvWPuRd/bb8xkDZo03avmrCrX5pcXBXSNCD82m00TZy+QPcr7kYz1FaX6y6L75ayu8Gtcj8ejjS/l+7zo64q7H1Zc1zS/xkXnQD/reARzO1WcPKKtv33Wq2azRylv7lJFxzpaNcb4WY8rIS3Dq3Zo6wYd+OdfA7ZOhKeM/rk+G+LZw5/rz/mzVH7icJvGc9XVqGDZE/qsYK3lWL8xk5V77W1+rxXhj35mBoK5HdzNzSpY9oSaWjwNaOSN9ynz0uGtHseRkKyJ38+31LesWGJ53ikiz6ib7tfgvJss9dIj+7T64Zu09c3nLrpPmlwN2r/5bb05b5r2b1pnOZ7eP1dT5z3Fc3QjGP3MHNEXfwnOZ9efX9Xp/bu9aml9BmrMrQ+2eax+oydq8OQb9fn7b52rOasrtGn5k7rup8+e/42ICJMfXCS7PUpFG9Z41d1Njdqx5mXt/OMr6jl4lHoMHqWE1O6K69pNrvoa1ZWXqPToAR37ZIvlO8OvZQ4aoRvmv6jYr36XishEPzMHweyn0mMHtG31C141e3S0psxdqqiYWL/GvPJ7j+r47kLVlp0+Vzu8dYMObHlHAyZ8u13rRXiz2e2a9OBCdb9kiD789X9bPtV43G6dLPpYJ4s+btO4udfcpvGzHvN7z6JzoJ+ZhVPZfmhuatR7y56Qu6nRqz565myl51hvpdhajoRkTXpwoaW+5VdLOQUESdKwf7tdtz+7Tv2vuFY2u///+2ZcOkwzFr2uibN/RihHOPqZeQhmP+xYu1wlh4q8auk5QzV65gPtHrvvqAkanHezV81ZXaFNXNWIryRnZOvaR57RHc++rdEzH1Bqr/4+n0bVUnxKdw2ZMlMzFr2uW55a7XX3JkQu+pl5OJXdRiWHirRz7XKvmj06Rnlzl1p+1uKvK7/7Ux3f/aFqS0+dqx3eVqD9W97WwAk3BGQOhL+UrL4ad+c8jbtznpzVFSo9sk9VZ07IWVOpZpdT9ugYxcYlKjG9p1Kzc9S1R++OXjIMQz8zE8HcRuk5Q/X93++++AvbwZGQpHuXFwR1DnQuXZJSlD18nLI7eiEIK/QzM3EqGwAAgxDMAAAYhGAGAMAgBDMAAAYhmAEAMAjBDACAQQhmAAAMQjADAGAQghkAAIMQzAAAGIRgBgDAIAQzAAAGIZgBADAIwQwAgEEIZgAADEIwAwBgEIIZAACDEMwAABiEYAYAwCAEMwAABiGYAQAwCMEMAIBBCGYAAAxCMAMAYBCCGQAAgxDMAAAYhGAGAMAgBDMAAAYhmAEAMAjBDACAQQhmAAAMQjADAGAQghkAAIMQzAAAGIRgBgDAIAQzAAAGIZgBADAIwQwAgEEIZgAADEIwAwBgEIIZAACDEMwAABiEYAYAwCAEMwAABiGYAQAwCMEMAIBBCGYAAAxCMAMAYBCCGQAAgxDMAAAYhGAGAMAgBDMAAAYhmAEAMAjBDACAQQhmAAAMQjADAGAQghkAAIMQzAAAGIRgBgDAIAQzAAAGiW7tCxsaGtTQ0HDuz1VVVZIkV31N4FcFfOXr/cU+QzCxzxAKrvraVr3O5vF4PK15YX5+vhYuXNiuRQEAEOkqKyuVnJx83uOtDmZfn5h79+6te5YXKDYusf0rBXxw1dfoNw9MYZ8hqNhnCIWastNaNW/6RYO51aeyHQ6HHA6HpR4bl6jYeDYygot9hlBgnyGYYlv5VQkXfwEAYBCCGQAAgxDMAAAYhGAGAMAgBDMAAAYhmAEAMAjBDACAQQhmAAAMQjADAGAQghkAAIMQzAAAGIRgBgDAIAQzAAAGIZgBADAIwQwAgEEIZgAADEIwAwBgEIIZAACDEMwAABiEYAYAwCAEMwAABiGYAQAwCMEMAIBBCGYAAAxCMAMAYBCCGQAAgxDMAAAYhGAGAMAgBDMAAAYhmAEAMAjBDACAQQhmAAAMQjADAGAQghkAAIMQzAAAGIRgBgDAIAQzAAAGIZgBADAIwQwAgEEIZgAADEIwAwBgEIIZAACDEMwAABiEYAYAwCAEMwAABiGYAQAwCMEMAIBBCGYAAAxCMAMAYBCCGQAAgxDMAAAYJLqjFwCg/ZzVFSo9dkDVp7+Qs6ZSTS6noqJjFBOXqKT0LKVmX6LkzF4dvUwArUAwA2Gq8suj2rdxnQ5tK1DZ8YOSx3PB1yekZajvqKs08Kppysr9ZohWCaCtCGY/bVv1vD7+w4tetcyBl+mmxStlj4rye1yPx6O/PPmAvtj9oVd9+PV3a8J9j/s9LjqP6pKTKlz5jIoL18vjdrf6fbVlZ1S0YY2KNqxR5oBv6Ip7HlHW0NFBXCnCBf3MLHzH7KfRt8xW90sGe9VO79+tXetea9e4e9evsmzilKx+uuLuH7drXHQORe/+QW/+aLoOfvC3NoVyS6cPfKq3fnavNi1fpOZGVwBXiHBEPzMLn5j9FBUdo7w5S7Xm0dvkbmo8V9+++gX1Gz1JaX0ubfOYlaeO6cOVT3vVbPYo5c1dqmhHl3avGeHL4/Foy4rF2vP3VT6P2+x29Rg0Qj2HjFZ8arriuqapsa5GteUlKjt2QEc/2aImZ33LQbV3/WqdPbJPN8x/UY6E5BD8TWAi+plZCOZ26N5vkMbc+gNt/d2z52rNjS4VPP+EZv78d7JHtf6f1+N2q2DZE5bmOWL6d9Vj4GUBWzPC06aX8lW0YY2lbo+O0Yjp39Pw6+9UQmr6ed/f1OBUceE/VLjyadVVnPU6dnrfLq1beL9mLHxNsXEJAV87wgP9zBycym6nkTfep4wBw71qJcV7tWPt8jaNs2vd6zr1+SdetbQ+AzT29jntXiPC2651r/sM5bQ+A3Xr02t1+V3zLhjKkhTt6KJBk6brjufe1oAJ37YcLyneqw3PPirPRS4gQ+dGPzMDwdxO9qgo5c1ZoqhYh1d9x9qXdfbwZ60ao+zYQW1btcx73OhoTZm7VFExsQFbK8LP2SOf66Pf/tJS79Z3oGYsfFVpvfq3aTxHQpKm/vAXGjRphuXYke3va+/61X6vFeGPfmYGgjkA0nr117g7fuhVczc1acNzT1z0whp3c5MKlj1ued3ombOVnjM04GtFeNn00kK5m5q8anHJaZq2YIXiklP9GtNmtyvvocXqddm3LMcK33hG9ZVlfo2LzoF+1vEI5gC57IZ71GPwSK9a2bH92v77/73g+z5e87JKDhV51dJzhmr0zAcCvkaEl8Pb39PpA59a6uNnPab4rt3aNbbNbtek2QsU7YjzqjfW12rnW79q19gIf/SzjkUwB4jNbteUOUssje6Tt1712Vwl6UzxXu1s8d1NVEyspsz9eZsutEDn9Ok7b1hqWbljfH5H7I/kzF4aeeMsS/2zDWvU2FDv4x2IFPSzjkUwB1DXnn0tv8/zuJtVsGy+mlwNXvXmRpcKnntc7mbv05Rjb5/j108T0LlUnzmpE3u2Weq5194W0HmGTr1FNrv3DSRcdTU6VPhuQOdB+KGfdRyCOcCGXXensoeN9apVnDjk9RMESdr6u+dU/kWxVy1z0AhdNu27wV4iwsCRHRstt9jskpSinLFTAjrPv27TOcHH/JsCOg/CE/2sYxDMAWaz2ZT30BLFtPg96KfvrNSXn+2QJH352Q7tfvvXXsejHXGaMmdpu25/h87j5N7tllr2sHFBuaq1z8jx1vl9fFpH5KGfdQyCOQiSMrJ05b0/8ap53G4VPD9fdZWlKnh+vuV2ipff/WOlZPUN5TJhsJLiIkst49JhQZkrvX+upVZfVaaa0lNBmQ/hhX4WegRzkAy9+jvqPeJKr1rVqeP6/cM3q+rUca969rCxGn7dnaFcHgzW3OhSVckJSz3DR4AGQvd+g2WPtl6cU3HiSFDmQ/ihn4UWwRxEk3/wpOX+wy1vhxgTl6C8h5bIZrOFcmkwWG3ZGZ+PcEzolhmU+aJiYtUlMcVSrzn7ZVDmQ3iin4UOwRxEid0ydeWsxy74mivv/YmSMrJCtCKEA2dNpc96bHxi0OaMjU+y1Bpqq4I2H8IP/Sx0COYgGzxphnr7uMOSJPUZOUFDr/5OiFcE0zW7nD7rwXz6kyPBGswtfxID0M9Cg2AOsvqqcp09us/nsf5XXBPi1QDn4ePUIw+0QEv0s9AgmINs8/InVV9R6vPYR2/8kvsSwyIq1vezahvqqoM2Z0OtdewYnpmLFuhnoUEwB9GBf/5VxYXrz3u8vqpMm19ZHMIVIRyc75S1y0d4BorLx/fJwTx1jvBDPwsdgjlI6spLfG7SlhfZFBeu18EPz7/ZEXkSu2X6PLVcW3YmKPM1N7rkrKmw1BO69QjKfAg/9LPQIpiDZONL+WpocXVt7jW3KW+OdXNveWUxp4BwTlRMrJLSrVe2nineG5T5So/utzxaUpJSsvsFZT6EH/pZaBHMQfD5e3/SkY83etWSM3rpW/f8h3LGTdWA8dd7HfvXKaAnQ7hCmC79kiGW2pmDe4Iyl69xuySnKql7z6DMh/BCPws9gjnAakpP6Z+vPeVdtNk0ec7ic/ebnXD/fMWndPd6SXHhP3Twg7+HapkwXFaLBwdI0ok9Wy/6oHp/HN/1gaWWnWudH5GHftYxCOYAe/+F/5KrxdWzw6+7S9m5Y879uUtSiibOXmB57+YVi1VX6fuKR0SWfqMnWmrOqnId3v5+QOepKy/R0Z2bLfW+37TOj8hDP+sYBHMA7Vm/Wsd3f+hV69qzry6/+0eW114yNk8Dr5rmVXNWlWvzck4BQUrO7KWs/9P8vrZ3/aqAzlNUsNbyDN3Y+ET1v/zqgM6D8EM/6zgEc4BUnf5Chb/5H6+azW5X3pwlinHE+XzP+PseV3xqulft0Efv6sAHfwvaOhE+hl9/l6V2Ys+2gJ0irD5zUjv/tMJSH5J3s2K6xAdkDoQn+lnHIpgDwOPx6L0X/lONzjqv+mU33Kueg0ee931dErtqko9TQFtWLOEUEJQzbqrPRzJueXWp6qvK2zW2x+3Wxpfz1eSs96rHxCVo1M3/3q6xEd7oZx2PYA6AT99ZaXmwfWqvHI29Y+5F39tvzGQNmjTdq+asKtfmlxcFdI0IPzabTRNnL5A9yvuRjPUVpfrLovvlrK7wa1yPx6ONL+X7vOjrirsfVlzXNL/GRedAP+t4BHM7VZw8oq2/fdarZrNHKW/uUkXHOlo1xvhZjyshLcOrdmjrBh34518Dtk6Ep4z+uT4b4tnDn+vP+bNUfuJwm8Zz1dWoYNkT+qxgreVYvzGTlXvtbX6vFeGPfmYGgrkd3M3NKlj2hJpaPA1o5I33KfPS4a0ex5GQrInfz7fUt6xYYnneKSLPqJvu1+C8myz10iP7tPrhm7T1zecuuk+aXA3av/ltvTlvmvZvWmc5nt4/V1PnPcVzdCMY/cwc0Rd/Cc5n159f1en9u71qaX0GasytD7Z5rH6jJ2rw5Bv1+ftvnas5qyu0afmTuu6nz57/jYgIkx9cJLs9SkUb1njV3U2N2rHmZe384yvqOXiUegwepYTU7orr2k2u+hrVlZeo9OgBHftki+U7w69lDhqhG+a/qNivfpeKyEQ/MwfB7KfSYwe0bfULXjV7dLSmzF2qqJhYv8a88nuP6vjuQtWWnT5XO7x1gw5seUcDJny7XetFeLPZ7Zr04EJ1v2SIPvz1f1s+1Xjcbp0s+lgniz5u07i519ym8bMe83vPonOgn5mFU9l+aG5q1HvLnpC7qdGrPnrmbKXnWG+l2FqOhGRNenChpb7lV0s5BQRJ0rB/u123P7tO/a+4Vja7///7Zlw6TDMWva6Js39GKEc4+pl5CGY/7Fi7XCWHirxq6TlDNXrmA+0eu++oCRqcd7NXzVldoU1c1YivJGdk69pHntEdz76t0TMfUGqv/j6fRtVSfEp3DZkyUzMWva5bnlrtdfcmRC76mXk4ld1GJYeKtHPtcq+aPTpGeXOXWn7W4q8rv/tTHd/9oWpLT52rHd5WoP1b3tbACTcEZA6Ev5Ssvhp35zyNu3OenNUVKj2yT1VnTshZU6lml1P26BjFxiUqMb2nUrNz1LVH745eMgxDPzMTwdxG6TlD9f3f7774C9vBkZCke5cXBHUOdC5dklKUPXycsjt6IQgr9DMzcSobAACDEMwAABiEYAYAwCAEMwAABiGYAQAwCMEMAIBBCGYAAAxCMAMAYBCCGQAAgxDMAAAYhGAGAMAgBDMAAAYhmAEAMAjBDACAQQhmAAAMQjADAGAQghkAAIMQzAAAGIRgBgDAIAQzAAAGIZgBADAIwQwAgEEIZgAADEIwAwBgEIIZAACDEMwAABiEYAYAwCAEMwAABiGYAQAwCMEMAIBBCGYAAAxCMAMAYBCCGQAAgxDMAAAYhGAGAMAgBDMAAAYhmAEAMAjBDACAQQhmAAAMQjADAGAQghkAAIMQzAAAGIRgBgDAIAQzAAAGIZgBADAIwQwAgEEIZgAADEIwAwBgEIIZAACDEMwAABiEYAYAwCAEMwAABiGYAQAwCMEMAIBBCGYAAAxCMAMAYBCCGQAAgxDMAAAYhGAGAMAgBDMAAAaJbu0LGxoa1NDQcO7PVVVVkiRXfU3gVwV85ev9xT5DMLHPEAqu+tpWvc7m8Xg8rXlhfn6+Fi5c2K5FAQAQ6SorK5WcnHze460OZl+fmHv37q17lhcoNi6x/SsFfHDV1+g3D0xhnyGo2GcIhZqy01o1b/pFg7nVp7IdDoccDoelHhuXqNh4NjKCi32GUGCfIZhiW/lVCRd/AQBgEIIZAACDEMwAABiEYAYAwCAEMwAABiGYAQAwCMEMAIBBCGYAAAxCMAMAYBCCGQAAgxDMAAAYhGAGAMAgBDMAAAYhmAEAMAjBDACAQQhmAAAMQjADAGAQghkAAIMQzAAAGIRgBgDAIAQzAAAGIZgBADAIwQwAgEEIZgAADEIwAwBgEIIZAACDEMwAABiEYAYAwCAEMwAABiGYAQAwCMEMAIBBCGYAAAxCMAMAYBCCGQAAgxDMAAAYhGAGAMAgBDMAAAYhmAEAMAjBDACAQQhmAAAMQjADAGAQghkAAIMQzAAAGIRgBgDAIAQzAAAGIZgBADAIwQwAgEEIZgAADEIwAwBgEIIZAACDEMwAABgkuqMX0Nk5qytUeuyAqk9/IWdNpZpcTkVFxygmLlFJ6VlKzb5EyZm9OnqZCHPsM6DzIJiDoPLLo9q3cZ0ObStQ2fGDksdzwdcnpGWo76irNPCqacrK/WaIVolwxz4DOieCOYCqS06qcOUzKi5cL4/b3er31ZadUdGGNSrasEaZA76hK+55RFlDRwdxpQhn7DOgc+M75gApevcPevNH03Xwg7+1qVm2dPrAp3rrZ/dq0/JFam50BXCF6AzYZ0DnxyfmdvJ4PNqyYrH2/H2Vz+M2u109Bo1QzyGjFZ+arriuaWqsq1FteYnKjh3Q0U+2qMlZ33JQ7V2/WmeP7NMN81+UIyE5BH8TmIx9BkQOgrmdNr2Ur6INayx1e3SMRkz/noZff6cSUtPP+/6mBqeKC/+hwpVPq67irNex0/t2ad3C+zVj4WuKjUsI+NoRPthnQOTgVHY77Fr3us9mmdZnoG59eq0uv2veBZulJEU7umjQpOm647m3NWDCty3HS4r3asOzj8pzkQt70Hmxz4DIQjD76eyRz/XRb39pqXfrO1AzFr6qtF792zSeIyFJU3/4Cw2aNMNy7Mj297V3/Wq/14rwxT4DIg/B7KdNLy2Uu6nJqxaXnKZpC1YoLjnVrzFtdrvyHlqsXpd9y3Ks8I1nVF9Z5te4CF/sMyDyEMx+OLz9PZ0+8KmlPn7WY4rv2q1dY9vsdk2avUDRjjivemN9rXa+9at2jY3wwj4DIhPB7IdP33nDUsvKHePzuzt/JGf20sgbZ1nqn21Yo8aGeh/vQGfEPgMiE8HcRtVnTurEnm2Weu61twV0nqFTb5HNHuVVc9XV6FDhuwGdB2ZinwGRi2BuoyM7NlpufdglKUU5Y6cEdJ5/3T5xgo/5NwV0HpiJfQZELoK5jU7u3W6pZQ8bp6iY2IDP1WfkeOv8Pj5FofNhnwGRi2Buo5LiIkst49JhQZkrvX+upVZfVaaa0lNBmQ/mYJ8BkYtgboPmRpeqSk5Y6hk+GlsgdO83WPZo683ZKk4cCcp8MAP7DIhsBHMb1Jad8flovYRumUGZLyomVl0SUyz1mrNfBmU+mIF9BkQ2grkNnDWVPuux8YlBmzM2PslSa6itCtp86HjsMyCyEcxt0Oxy+qwH86k8jgRrw2xyNQRtPnQ89hkQ2Qhm09lslhIPGkDAsc8AYxDMbRAV28VnvaGuOmhzNtRax45x+F4HOgf2GRDZCOY2ON+pRJePphYoLh/f8/FA+86NfQZENoK5DRK7Zfo85VdbdiYo8zU3uuSsqbDUE7r1CMp8MAP7DIhsBHMbRMXEKik9y1I/U7w3KPOVHt1veeSfJKVk9wvKfDAD+wyIbARzG6VfMsRSO3NwT1Dm8jVul+RUJXXvGZT5YA72GRC5COY2yho21lI7sWermhtdAZ/r+K4PLLXsXOv86HzYZ0DkIpjbqN/oiZaas6pch7e/H9B56spLdHTnZku97zet86PzYZ8BkYtgbqPkzF7Kyh1jqe9dvyqg8xQVrJW72ft7v9j4RPW//OqAzgMzsc+AyEUw+2H49XdZaif2bNPBD/4ekPGrz5zUzj+tsNSH5N2smC7xAZkD5mOfAZGJYPZDzripPh+Vt+XVpaqvKm/X2B63WxtfzleTs96rHhOXoFE3/3u7xkZ4YZ8BkYlg9oPNZtPE2Qtkj/J+VF59Ran+suh+Oasr/BrX4/Fo40v5Pi/GueLuhxXXNc2vcRGe2GdAZCKY/ZTRP1dj75hrqZ89/Ln+nD9L5ScOt2k8V12NCpY9oc8K1lqO9RszWbnX3ub3WhG+2GdA5CGY22HUTfdrcN5NlnrpkX1a/fBN2vrmc6qrOHvBMZpcDdq/+W29OW+a9m9aZzme3j9XU+c9JZuPO0EhMrDPgMgSffGX4EImP7hIdnuUijas8aq7mxq1Y83L2vnHV9Rz8Cj1GDxKCandFde1m1z1NaorL1Hp0QM69skWNTrrfI6dOWiEbpj/omLjEkLxV4HB2GdA5CCY28lmt2vSgwvV/ZIh+vDX/62mFs/S9bjdOln0sU4WfdymcXOvuU3jZz2mqJjYQC4XYYp9BkQOgjlAhv3b7eozaoIKf/O0Dm19Vx63269xMi4dpivueUTZPn7DCrDPgM6PYA6g5IxsXfvIM6o4eVT7Nr6lQ1sLVH7ikHSRB87Hp3RX39ETNXDiNBolLop9BnRuBHMQpGT11bg752ncnfPkrK5Q6ZF9qjpzQs6aSjW7nLJHxyg2LlGJ6T2Vmp2jrj16d/SSEYbYZ0DnRDAHWZekFGUPH6fsjl4IOjX2GdB58HMpAAAMQjADAGAQghkAAIMQzAAAGIRgBgDAIAQzAAAGIZgBADAIwQwAgEEIZgAADEIwAwBgEIIZAACDEMwAABiEYAYAwCAEMwAABiGYAQAwCMEMAIBBCGYAAAxCMAMAYBCCGQAAgxDMAAAYhGAGAMAgBDMAAAYhmAEAMAjBDACAQQhmAAAMQjADAGAQghkAAIMQzAAAGIRgBgDAIAQzAAAGIZgBADAIwQwAgEEIZgAADEIwAwBgEIIZAACDEMwAABiEYAYAwCAEMwAABiGYAQAwCMEMAIBBCGYAAAxCMAMAYBCCGQAAgxDMAAAYhGAGAMAgBDMAAAYhmAEAMAjBDACAQQhmAAAMQjADAGAQghkAAIMQzAAAGIRgBgDAIAQzAAAGIZgBADAIwQwAgEEIZgAADEIwAwBgEIIZAACDEMwAABgkurUvbGhoUENDw7k/V1ZWSpJqyk4rtr4m8CsDJLnqayWxzxBc7DOEQm15iSTJ4/Fc8HU2z8Ve8ZX8/HwtXLiw/SsDACCCFRcXKycn57zHWx3MLT8xu91ulZWVqVu3brLZbO1fKeBDVVWVevfurePHjys5Obmjl4NOin2GUKisrFSfPn1UXl6ulJSU876u1aeyHQ6HHA6HV+1CAwOBlJycTMNE0LHPEAp2+4Uv7+LiLwAADEIwAwBgEIIZRnM4HFqwYIHlaxQgkNhnCIXW7rNWX/wFAACCj0/MAAAYhGAGAMAgBDMAAAYhmAEAMAjBDACAQQhmAAAMQjADAGAQghkAAIP8P+BCzTkPyA3XAAAAAElFTkSuQmCC\n"
                },
                "metadata": {}
              },
              {
                "output_type": "stream",
                "name": "stdout",
                "text": [
                  "Player O wins!\n"
                ]
              }
            ]
          }
        },
        "c1aadb4f7c7e4a02b699d462815390d1": {
          "model_module": "@jupyter-widgets/base",
          "model_name": "LayoutModel",
          "model_module_version": "1.2.0",
          "state": {
            "_model_module": "@jupyter-widgets/base",
            "_model_module_version": "1.2.0",
            "_model_name": "LayoutModel",
            "_view_count": null,
            "_view_module": "@jupyter-widgets/base",
            "_view_module_version": "1.2.0",
            "_view_name": "LayoutView",
            "align_content": null,
            "align_items": null,
            "align_self": null,
            "border": null,
            "bottom": null,
            "display": null,
            "flex": null,
            "flex_flow": null,
            "grid_area": null,
            "grid_auto_columns": null,
            "grid_auto_flow": null,
            "grid_auto_rows": null,
            "grid_column": null,
            "grid_gap": null,
            "grid_row": null,
            "grid_template_areas": null,
            "grid_template_columns": null,
            "grid_template_rows": null,
            "height": null,
            "justify_content": null,
            "justify_items": null,
            "left": null,
            "margin": null,
            "max_height": null,
            "max_width": null,
            "min_height": null,
            "min_width": null,
            "object_fit": null,
            "object_position": null,
            "order": null,
            "overflow": null,
            "overflow_x": null,
            "overflow_y": null,
            "padding": null,
            "right": null,
            "top": null,
            "visibility": null,
            "width": null
          }
        }
      }
    }
  },
  "cells": [
    {
      "cell_type": "markdown",
      "metadata": {
        "id": "view-in-github",
        "colab_type": "text"
      },
      "source": [
        "<a href=\"https://colab.research.google.com/github/luisgdelafuente/games/blob/main/tic-tac-toe%20n%20times.ipynb\" target=\"_parent\"><img src=\"https://colab.research.google.com/assets/colab-badge.svg\" alt=\"Open In Colab\"/></a>"
      ]
    },
    {
      "cell_type": "code",
      "source": [
        "def run_games(n):\n",
        "    results = {\"X\": 0, \"O\": 0, \"Draw\": 0}\n",
        "\n",
        "    # Create an output widget to display the game board once\n",
        "    out = widgets.Output()\n",
        "    display(out)\n",
        "\n",
        "    for i in range(n):\n",
        "        print(f\"Playing game {i + 1}...\")\n",
        "        winner = interactive_play_game(out)\n",
        "        results[winner] += 1\n",
        "\n",
        "    # Display summary\n",
        "    print(\"\\nSummary:\")\n",
        "    for key, value in results.items():\n",
        "        print(f\"{key}: {value} wins\")\n",
        "\n",
        "def interactive_play_game(out):\n",
        "    board = initialize_board()\n",
        "    players = ['X', 'O']\n",
        "    turn = 0\n",
        "    winner = None\n",
        "\n",
        "    while not winner and not is_board_full(board):\n",
        "        with out:\n",
        "            clear_output(wait=True)\n",
        "            fig, ax = plt.subplots(figsize=(6, 6))\n",
        "            player = players[turn % 2]\n",
        "            ai_move(board, player)\n",
        "            draw_board(board, ax)\n",
        "            plt.show()\n",
        "\n",
        "            if check_winner(board, player):\n",
        "                winner = player\n",
        "            turn += 1\n",
        "\n",
        "    with out:\n",
        "        if winner:\n",
        "            print(f\"Player {winner} wins!\")\n",
        "        else:\n",
        "            print(\"It's a draw!\")\n",
        "            winner = \"Draw\"\n",
        "\n",
        "    return winner\n",
        "\n",
        "# Example: Run the game 5 times\n",
        "run_games(10)\n"
      ],
      "metadata": {
        "colab": {
          "base_uri": "https://localhost:8080/",
          "height": 809,
          "referenced_widgets": [
            "974abd4a429445768121685ed1eb7ad8",
            "c1aadb4f7c7e4a02b699d462815390d1"
          ]
        },
        "id": "jSm894XHCSsi",
        "outputId": "5833597b-c2cb-4a3e-a8e4-98e7fe72f1e7"
      },
      "execution_count": 17,
      "outputs": [
        {
          "output_type": "display_data",
          "data": {
            "text/plain": [
              "Output()"
            ],
            "application/vnd.jupyter.widget-view+json": {
              "version_major": 2,
              "version_minor": 0,
              "model_id": "974abd4a429445768121685ed1eb7ad8"
            }
          },
          "metadata": {}
        },
        {
          "output_type": "stream",
          "name": "stdout",
          "text": [
            "Playing game 1...\n",
            "Playing game 2...\n",
            "Playing game 3...\n",
            "Playing game 4...\n",
            "Playing game 5...\n",
            "Playing game 6...\n",
            "Playing game 7...\n",
            "Playing game 8...\n",
            "Playing game 9...\n",
            "Playing game 10...\n",
            "\n",
            "Summary:\n",
            "X: 4 wins\n",
            "O: 6 wins\n",
            "Draw: 0 wins\n"
          ]
        }
      ]
    }
  ]
}