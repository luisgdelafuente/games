{
  "nbformat": 4,
  "nbformat_minor": 0,
  "metadata": {
    "colab": {
      "provenance": [],
      "authorship_tag": "ABX9TyN3WVMnqB7Ajz1lujUWqehT",
      "include_colab_link": true
    },
    "kernelspec": {
      "name": "python3",
      "display_name": "Python 3"
    },
    "language_info": {
      "name": "python"
    },
    "widgets": {
      "application/vnd.jupyter.widget-state+json": {
        "5b044f34563e4aafa03119d2f9e3b345": {
          "model_module": "@jupyter-widgets/output",
          "model_name": "OutputModel",
          "model_module_version": "1.0.0",
          "state": {
            "_dom_classes": [],
            "_model_module": "@jupyter-widgets/output",
            "_model_module_version": "1.0.0",
            "_model_name": "OutputModel",
            "_view_count": null,
            "_view_module": "@jupyter-widgets/output",
            "_view_module_version": "1.0.0",
            "_view_name": "OutputView",
            "layout": "IPY_MODEL_18279435ca5b4554a619962512fc905d",
            "msg_id": "",
            "outputs": [
              {
                "output_type": "display_data",
                "data": {
                  "text/plain": "<Figure size 600x600 with 1 Axes>",
                  "image/png": "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\n"
                },
                "metadata": {}
              },
              {
                "output_type": "stream",
                "name": "stdout",
                "text": [
                  "Player X wins!\n"
                ]
              }
            ]
          }
        },
        "18279435ca5b4554a619962512fc905d": {
          "model_module": "@jupyter-widgets/base",
          "model_name": "LayoutModel",
          "model_module_version": "1.2.0",
          "state": {
            "_model_module": "@jupyter-widgets/base",
            "_model_module_version": "1.2.0",
            "_model_name": "LayoutModel",
            "_view_count": null,
            "_view_module": "@jupyter-widgets/base",
            "_view_module_version": "1.2.0",
            "_view_name": "LayoutView",
            "align_content": null,
            "align_items": null,
            "align_self": null,
            "border": null,
            "bottom": null,
            "display": null,
            "flex": null,
            "flex_flow": null,
            "grid_area": null,
            "grid_auto_columns": null,
            "grid_auto_flow": null,
            "grid_auto_rows": null,
            "grid_column": null,
            "grid_gap": null,
            "grid_row": null,
            "grid_template_areas": null,
            "grid_template_columns": null,
            "grid_template_rows": null,
            "height": null,
            "justify_content": null,
            "justify_items": null,
            "left": null,
            "margin": null,
            "max_height": null,
            "max_width": null,
            "min_height": null,
            "min_width": null,
            "object_fit": null,
            "object_position": null,
            "order": null,
            "overflow": null,
            "overflow_x": null,
            "overflow_y": null,
            "padding": null,
            "right": null,
            "top": null,
            "visibility": null,
            "width": null
          }
        },
        "6cf2cdb742d54ad29944d6ad35fd83c6": {
          "model_module": "@jupyter-widgets/output",
          "model_name": "OutputModel",
          "model_module_version": "1.0.0",
          "state": {
            "_dom_classes": [],
            "_model_module": "@jupyter-widgets/output",
            "_model_module_version": "1.0.0",
            "_model_name": "OutputModel",
            "_view_count": null,
            "_view_module": "@jupyter-widgets/output",
            "_view_module_version": "1.0.0",
            "_view_name": "OutputView",
            "layout": "IPY_MODEL_0f112ca8eeee4c5aa400b28591c14f54",
            "msg_id": "",
            "outputs": [
              {
                "output_type": "display_data",
                "data": {
                  "text/plain": "<Figure size 600x600 with 1 Axes>",
                  "image/png": "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\n"
                },
                "metadata": {}
              },
              {
                "output_type": "stream",
                "name": "stdout",
                "text": [
                  "Player X wins!\n"
                ]
              }
            ]
          }
        },
        "0f112ca8eeee4c5aa400b28591c14f54": {
          "model_module": "@jupyter-widgets/base",
          "model_name": "LayoutModel",
          "model_module_version": "1.2.0",
          "state": {
            "_model_module": "@jupyter-widgets/base",
            "_model_module_version": "1.2.0",
            "_model_name": "LayoutModel",
            "_view_count": null,
            "_view_module": "@jupyter-widgets/base",
            "_view_module_version": "1.2.0",
            "_view_name": "LayoutView",
            "align_content": null,
            "align_items": null,
            "align_self": null,
            "border": null,
            "bottom": null,
            "display": null,
            "flex": null,
            "flex_flow": null,
            "grid_area": null,
            "grid_auto_columns": null,
            "grid_auto_flow": null,
            "grid_auto_rows": null,
            "grid_column": null,
            "grid_gap": null,
            "grid_row": null,
            "grid_template_areas": null,
            "grid_template_columns": null,
            "grid_template_rows": null,
            "height": null,
            "justify_content": null,
            "justify_items": null,
            "left": null,
            "margin": null,
            "max_height": null,
            "max_width": null,
            "min_height": null,
            "min_width": null,
            "object_fit": null,
            "object_position": null,
            "order": null,
            "overflow": null,
            "overflow_x": null,
            "overflow_y": null,
            "padding": null,
            "right": null,
            "top": null,
            "visibility": null,
            "width": null
          }
        },
        "df20ee8a2f79480680cb65cf7c39ba9b": {
          "model_module": "@jupyter-widgets/output",
          "model_name": "OutputModel",
          "model_module_version": "1.0.0",
          "state": {
            "_dom_classes": [],
            "_model_module": "@jupyter-widgets/output",
            "_model_module_version": "1.0.0",
            "_model_name": "OutputModel",
            "_view_count": null,
            "_view_module": "@jupyter-widgets/output",
            "_view_module_version": "1.0.0",
            "_view_name": "OutputView",
            "layout": "IPY_MODEL_d353ce9be7ce4311afcf8302f7da0051",
            "msg_id": "",
            "outputs": [
              {
                "output_type": "display_data",
                "data": {
                  "text/plain": "<Figure size 600x600 with 1 Axes>",
                  "image/png": "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\n"
                },
                "metadata": {}
              },
              {
                "output_type": "stream",
                "name": "stdout",
                "text": [
                  "It's a draw!\n"
                ]
              }
            ]
          }
        },
        "d353ce9be7ce4311afcf8302f7da0051": {
          "model_module": "@jupyter-widgets/base",
          "model_name": "LayoutModel",
          "model_module_version": "1.2.0",
          "state": {
            "_model_module": "@jupyter-widgets/base",
            "_model_module_version": "1.2.0",
            "_model_name": "LayoutModel",
            "_view_count": null,
            "_view_module": "@jupyter-widgets/base",
            "_view_module_version": "1.2.0",
            "_view_name": "LayoutView",
            "align_content": null,
            "align_items": null,
            "align_self": null,
            "border": null,
            "bottom": null,
            "display": null,
            "flex": null,
            "flex_flow": null,
            "grid_area": null,
            "grid_auto_columns": null,
            "grid_auto_flow": null,
            "grid_auto_rows": null,
            "grid_column": null,
            "grid_gap": null,
            "grid_row": null,
            "grid_template_areas": null,
            "grid_template_columns": null,
            "grid_template_rows": null,
            "height": null,
            "justify_content": null,
            "justify_items": null,
            "left": null,
            "margin": null,
            "max_height": null,
            "max_width": null,
            "min_height": null,
            "min_width": null,
            "object_fit": null,
            "object_position": null,
            "order": null,
            "overflow": null,
            "overflow_x": null,
            "overflow_y": null,
            "padding": null,
            "right": null,
            "top": null,
            "visibility": null,
            "width": null
          }
        },
        "fd9b163c1eeb47f1815020dd66f94eaa": {
          "model_module": "@jupyter-widgets/output",
          "model_name": "OutputModel",
          "model_module_version": "1.0.0",
          "state": {
            "_dom_classes": [],
            "_model_module": "@jupyter-widgets/output",
            "_model_module_version": "1.0.0",
            "_model_name": "OutputModel",
            "_view_count": null,
            "_view_module": "@jupyter-widgets/output",
            "_view_module_version": "1.0.0",
            "_view_name": "OutputView",
            "layout": "IPY_MODEL_0ab115fa8d014b809fd5120f54e1c7af",
            "msg_id": "",
            "outputs": [
              {
                "output_type": "display_data",
                "data": {
                  "text/plain": "<Figure size 600x600 with 1 Axes>",
                  "image/png": "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\n"
                },
                "metadata": {}
              },
              {
                "output_type": "stream",
                "name": "stdout",
                "text": [
                  "It's a draw!\n"
                ]
              }
            ]
          }
        },
        "0ab115fa8d014b809fd5120f54e1c7af": {
          "model_module": "@jupyter-widgets/base",
          "model_name": "LayoutModel",
          "model_module_version": "1.2.0",
          "state": {
            "_model_module": "@jupyter-widgets/base",
            "_model_module_version": "1.2.0",
            "_model_name": "LayoutModel",
            "_view_count": null,
            "_view_module": "@jupyter-widgets/base",
            "_view_module_version": "1.2.0",
            "_view_name": "LayoutView",
            "align_content": null,
            "align_items": null,
            "align_self": null,
            "border": null,
            "bottom": null,
            "display": null,
            "flex": null,
            "flex_flow": null,
            "grid_area": null,
            "grid_auto_columns": null,
            "grid_auto_flow": null,
            "grid_auto_rows": null,
            "grid_column": null,
            "grid_gap": null,
            "grid_row": null,
            "grid_template_areas": null,
            "grid_template_columns": null,
            "grid_template_rows": null,
            "height": null,
            "justify_content": null,
            "justify_items": null,
            "left": null,
            "margin": null,
            "max_height": null,
            "max_width": null,
            "min_height": null,
            "min_width": null,
            "object_fit": null,
            "object_position": null,
            "order": null,
            "overflow": null,
            "overflow_x": null,
            "overflow_y": null,
            "padding": null,
            "right": null,
            "top": null,
            "visibility": null,
            "width": null
          }
        },
        "0b6c8a6e828343c6a4666208fa01dfd8": {
          "model_module": "@jupyter-widgets/output",
          "model_name": "OutputModel",
          "model_module_version": "1.0.0",
          "state": {
            "_dom_classes": [],
            "_model_module": "@jupyter-widgets/output",
            "_model_module_version": "1.0.0",
            "_model_name": "OutputModel",
            "_view_count": null,
            "_view_module": "@jupyter-widgets/output",
            "_view_module_version": "1.0.0",
            "_view_name": "OutputView",
            "layout": "IPY_MODEL_47466b1117fc4667853bf2e8791b2ad7",
            "msg_id": "",
            "outputs": [
              {
                "output_type": "display_data",
                "data": {
                  "text/plain": "<Figure size 600x600 with 1 Axes>",
                  "image/png": "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\n"
                },
                "metadata": {}
              },
              {
                "output_type": "stream",
                "name": "stdout",
                "text": [
                  "Player X wins!\n"
                ]
              }
            ]
          }
        },
        "47466b1117fc4667853bf2e8791b2ad7": {
          "model_module": "@jupyter-widgets/base",
          "model_name": "LayoutModel",
          "model_module_version": "1.2.0",
          "state": {
            "_model_module": "@jupyter-widgets/base",
            "_model_module_version": "1.2.0",
            "_model_name": "LayoutModel",
            "_view_count": null,
            "_view_module": "@jupyter-widgets/base",
            "_view_module_version": "1.2.0",
            "_view_name": "LayoutView",
            "align_content": null,
            "align_items": null,
            "align_self": null,
            "border": null,
            "bottom": null,
            "display": null,
            "flex": null,
            "flex_flow": null,
            "grid_area": null,
            "grid_auto_columns": null,
            "grid_auto_flow": null,
            "grid_auto_rows": null,
            "grid_column": null,
            "grid_gap": null,
            "grid_row": null,
            "grid_template_areas": null,
            "grid_template_columns": null,
            "grid_template_rows": null,
            "height": null,
            "justify_content": null,
            "justify_items": null,
            "left": null,
            "margin": null,
            "max_height": null,
            "max_width": null,
            "min_height": null,
            "min_width": null,
            "object_fit": null,
            "object_position": null,
            "order": null,
            "overflow": null,
            "overflow_x": null,
            "overflow_y": null,
            "padding": null,
            "right": null,
            "top": null,
            "visibility": null,
            "width": null
          }
        },
        "276ac9518a2344fc892818e2b38faafc": {
          "model_module": "@jupyter-widgets/output",
          "model_name": "OutputModel",
          "model_module_version": "1.0.0",
          "state": {
            "_dom_classes": [],
            "_model_module": "@jupyter-widgets/output",
            "_model_module_version": "1.0.0",
            "_model_name": "OutputModel",
            "_view_count": null,
            "_view_module": "@jupyter-widgets/output",
            "_view_module_version": "1.0.0",
            "_view_name": "OutputView",
            "layout": "IPY_MODEL_6f52916f45aa4114b5dcb60ea74d1788",
            "msg_id": "",
            "outputs": [
              {
                "output_type": "display_data",
                "data": {
                  "text/plain": "<Figure size 600x600 with 1 Axes>",
                  "image/png": "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\n"
                },
                "metadata": {}
              },
              {
                "output_type": "stream",
                "name": "stdout",
                "text": [
                  "Player X wins!\n"
                ]
              }
            ]
          }
        },
        "6f52916f45aa4114b5dcb60ea74d1788": {
          "model_module": "@jupyter-widgets/base",
          "model_name": "LayoutModel",
          "model_module_version": "1.2.0",
          "state": {
            "_model_module": "@jupyter-widgets/base",
            "_model_module_version": "1.2.0",
            "_model_name": "LayoutModel",
            "_view_count": null,
            "_view_module": "@jupyter-widgets/base",
            "_view_module_version": "1.2.0",
            "_view_name": "LayoutView",
            "align_content": null,
            "align_items": null,
            "align_self": null,
            "border": null,
            "bottom": null,
            "display": null,
            "flex": null,
            "flex_flow": null,
            "grid_area": null,
            "grid_auto_columns": null,
            "grid_auto_flow": null,
            "grid_auto_rows": null,
            "grid_column": null,
            "grid_gap": null,
            "grid_row": null,
            "grid_template_areas": null,
            "grid_template_columns": null,
            "grid_template_rows": null,
            "height": null,
            "justify_content": null,
            "justify_items": null,
            "left": null,
            "margin": null,
            "max_height": null,
            "max_width": null,
            "min_height": null,
            "min_width": null,
            "object_fit": null,
            "object_position": null,
            "order": null,
            "overflow": null,
            "overflow_x": null,
            "overflow_y": null,
            "padding": null,
            "right": null,
            "top": null,
            "visibility": null,
            "width": null
          }
        },
        "eb0603f8460e436aba8683c162598e38": {
          "model_module": "@jupyter-widgets/output",
          "model_name": "OutputModel",
          "model_module_version": "1.0.0",
          "state": {
            "_dom_classes": [],
            "_model_module": "@jupyter-widgets/output",
            "_model_module_version": "1.0.0",
            "_model_name": "OutputModel",
            "_view_count": null,
            "_view_module": "@jupyter-widgets/output",
            "_view_module_version": "1.0.0",
            "_view_name": "OutputView",
            "layout": "IPY_MODEL_fac55e7cefcc42c394e98d0cb175c6bf",
            "msg_id": "",
            "outputs": [
              {
                "output_type": "display_data",
                "data": {
                  "text/plain": "<Figure size 600x600 with 1 Axes>",
                  "image/png": "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\n"
                },
                "metadata": {}
              },
              {
                "output_type": "stream",
                "name": "stdout",
                "text": [
                  "Player O wins!\n"
                ]
              }
            ]
          }
        },
        "fac55e7cefcc42c394e98d0cb175c6bf": {
          "model_module": "@jupyter-widgets/base",
          "model_name": "LayoutModel",
          "model_module_version": "1.2.0",
          "state": {
            "_model_module": "@jupyter-widgets/base",
            "_model_module_version": "1.2.0",
            "_model_name": "LayoutModel",
            "_view_count": null,
            "_view_module": "@jupyter-widgets/base",
            "_view_module_version": "1.2.0",
            "_view_name": "LayoutView",
            "align_content": null,
            "align_items": null,
            "align_self": null,
            "border": null,
            "bottom": null,
            "display": null,
            "flex": null,
            "flex_flow": null,
            "grid_area": null,
            "grid_auto_columns": null,
            "grid_auto_flow": null,
            "grid_auto_rows": null,
            "grid_column": null,
            "grid_gap": null,
            "grid_row": null,
            "grid_template_areas": null,
            "grid_template_columns": null,
            "grid_template_rows": null,
            "height": null,
            "justify_content": null,
            "justify_items": null,
            "left": null,
            "margin": null,
            "max_height": null,
            "max_width": null,
            "min_height": null,
            "min_width": null,
            "object_fit": null,
            "object_position": null,
            "order": null,
            "overflow": null,
            "overflow_x": null,
            "overflow_y": null,
            "padding": null,
            "right": null,
            "top": null,
            "visibility": null,
            "width": null
          }
        }
      }
    }
  },
  "cells": [
    {
      "cell_type": "markdown",
      "metadata": {
        "id": "view-in-github",
        "colab_type": "text"
      },
      "source": [
        "<a href=\"https://colab.research.google.com/github/luisgdelafuente/games/blob/main/tic-tac-toe%20n%20times.ipynb\" target=\"_parent\"><img src=\"https://colab.research.google.com/assets/colab-badge.svg\" alt=\"Open In Colab\"/></a>"
      ]
    },
    {
      "cell_type": "code",
      "execution_count": 1,
      "metadata": {
        "colab": {
          "base_uri": "https://localhost:8080/",
          "height": 1000
        },
        "id": "yiXa4Qgp_1f1",
        "outputId": "eaa81ecf-81a7-49d9-f72a-df66f7c39c64"
      },
      "outputs": [
        {
          "name": "stdout",
          "output_type": "stream",
          "text": [
            "Your turn:\n",
            "Enter your move (x,y,z): 1,1,1\n"
          ]
        },
        {
          "output_type": "display_data",
          "data": {
            "text/plain": [
              "<Figure size 1000x1000 with 1 Axes>"
            ],
            "image/png": "[encoded data removed]"
          },
          "metadata": {}
        },
        {
          "output_type": "stream",
          "name": "stdout",
          "text": [
            "AI's turn:\n"
          ]
        },
        {
          "output_type": "display_data",
          "data": {
            "text/plain": [
              "<Figure size 640x480 with 0 Axes>"
            ]
          },
          "metadata": {}
        },
        {
          "output_type": "stream",
          "name": "stdout",
          "text": [
            "Your turn:\n"
          ]
        },
        {
          "output_type": "error",
          "ename": "KeyboardInterrupt",
          "evalue": "ignored",
          "traceback": [
            "\u001b[0;31m---------------------------------------------------------------------------\u001b[0m",
            "\u001b[0;31mKeyboardInterrupt\u001b[0m                         Traceback (most recent call last)",
            "\u001b[0;32m<ipython-input-1-eb9752476621>\u001b[0m in \u001b[0;36m<cell line: 129>\u001b[0;34m()\u001b[0m\n\u001b[1;32m    127\u001b[0m         \u001b[0mprint\u001b[0m\u001b[0;34m(\u001b[0m\u001b[0;34m\"It's a draw!\"\u001b[0m\u001b[0;34m)\u001b[0m\u001b[0;34m\u001b[0m\u001b[0;34m\u001b[0m\u001b[0m\n\u001b[1;32m    128\u001b[0m \u001b[0;34m\u001b[0m\u001b[0m\n\u001b[0;32m--> 129\u001b[0;31m \u001b[0mplay_3d_game_with_human\u001b[0m\u001b[0;34m(\u001b[0m\u001b[0;34m)\u001b[0m\u001b[0;34m\u001b[0m\u001b[0;34m\u001b[0m\u001b[0m\n\u001b[0m",
            "\u001b[0;32m<ipython-input-1-eb9752476621>\u001b[0m in \u001b[0;36mplay_3d_game_with_human\u001b[0;34m()\u001b[0m\n\u001b[1;32m    111\u001b[0m         \u001b[0;32mif\u001b[0m \u001b[0mplayer\u001b[0m \u001b[0;34m==\u001b[0m \u001b[0;34m'X'\u001b[0m\u001b[0;34m:\u001b[0m\u001b[0;34m\u001b[0m\u001b[0;34m\u001b[0m\u001b[0m\n\u001b[1;32m    112\u001b[0m             \u001b[0mprint\u001b[0m\u001b[0;34m(\u001b[0m\u001b[0;34m\"Your turn:\"\u001b[0m\u001b[0;34m)\u001b[0m\u001b[0;34m\u001b[0m\u001b[0;34m\u001b[0m\u001b[0m\n\u001b[0;32m--> 113\u001b[0;31m             \u001b[0mx\u001b[0m\u001b[0;34m,\u001b[0m \u001b[0my\u001b[0m\u001b[0;34m,\u001b[0m \u001b[0mz\u001b[0m \u001b[0;34m=\u001b[0m \u001b[0mhuman_move\u001b[0m\u001b[0;34m(\u001b[0m\u001b[0mboard\u001b[0m\u001b[0;34m)\u001b[0m\u001b[0;34m\u001b[0m\u001b[0;34m\u001b[0m\u001b[0m\n\u001b[0m\u001b[1;32m    114\u001b[0m             \u001b[0mboard\u001b[0m\u001b[0;34m[\u001b[0m\u001b[0mx\u001b[0m\u001b[0;34m]\u001b[0m\u001b[0;34m[\u001b[0m\u001b[0my\u001b[0m\u001b[0;34m]\u001b[0m\u001b[0;34m[\u001b[0m\u001b[0mz\u001b[0m\u001b[0;34m]\u001b[0m \u001b[0;34m=\u001b[0m \u001b[0mplayer\u001b[0m\u001b[0;34m\u001b[0m\u001b[0;34m\u001b[0m\u001b[0m\n\u001b[1;32m    115\u001b[0m         \u001b[0;32melse\u001b[0m\u001b[0;34m:\u001b[0m\u001b[0;34m\u001b[0m\u001b[0;34m\u001b[0m\u001b[0m\n",
            "\u001b[0;32m<ipython-input-1-eb9752476621>\u001b[0m in \u001b[0;36mhuman_move\u001b[0;34m(board)\u001b[0m\n\u001b[1;32m     42\u001b[0m     \u001b[0;32mwhile\u001b[0m \u001b[0;32mTrue\u001b[0m\u001b[0;34m:\u001b[0m\u001b[0;34m\u001b[0m\u001b[0;34m\u001b[0m\u001b[0m\n\u001b[1;32m     43\u001b[0m         \u001b[0;32mtry\u001b[0m\u001b[0;34m:\u001b[0m\u001b[0;34m\u001b[0m\u001b[0;34m\u001b[0m\u001b[0m\n\u001b[0;32m---> 44\u001b[0;31m             \u001b[0mmove\u001b[0m \u001b[0;34m=\u001b[0m \u001b[0minput\u001b[0m\u001b[0;34m(\u001b[0m\u001b[0;34m\"Enter your move (x,y,z): \"\u001b[0m\u001b[0;34m)\u001b[0m\u001b[0;34m\u001b[0m\u001b[0;34m\u001b[0m\u001b[0m\n\u001b[0m\u001b[1;32m     45\u001b[0m             \u001b[0mx\u001b[0m\u001b[0;34m,\u001b[0m \u001b[0my\u001b[0m\u001b[0;34m,\u001b[0m \u001b[0mz\u001b[0m \u001b[0;34m=\u001b[0m \u001b[0mmap\u001b[0m\u001b[0;34m(\u001b[0m\u001b[0mint\u001b[0m\u001b[0;34m,\u001b[0m \u001b[0mmove\u001b[0m\u001b[0;34m.\u001b[0m\u001b[0mstrip\u001b[0m\u001b[0;34m(\u001b[0m\u001b[0;34m)\u001b[0m\u001b[0;34m.\u001b[0m\u001b[0msplit\u001b[0m\u001b[0;34m(\u001b[0m\u001b[0;34m\",\"\u001b[0m\u001b[0;34m)\u001b[0m\u001b[0;34m)\u001b[0m\u001b[0;34m\u001b[0m\u001b[0;34m\u001b[0m\u001b[0m\n\u001b[1;32m     46\u001b[0m             \u001b[0;32mif\u001b[0m \u001b[0;36m0\u001b[0m \u001b[0;34m<=\u001b[0m \u001b[0mx\u001b[0m \u001b[0;34m<\u001b[0m \u001b[0;36m3\u001b[0m \u001b[0;32mand\u001b[0m \u001b[0;36m0\u001b[0m \u001b[0;34m<=\u001b[0m \u001b[0my\u001b[0m \u001b[0;34m<\u001b[0m \u001b[0;36m3\u001b[0m \u001b[0;32mand\u001b[0m \u001b[0;36m0\u001b[0m \u001b[0;34m<=\u001b[0m \u001b[0mz\u001b[0m \u001b[0;34m<\u001b[0m \u001b[0;36m3\u001b[0m \u001b[0;32mand\u001b[0m \u001b[0mboard\u001b[0m\u001b[0;34m[\u001b[0m\u001b[0mx\u001b[0m\u001b[0;34m]\u001b[0m\u001b[0;34m[\u001b[0m\u001b[0my\u001b[0m\u001b[0;34m]\u001b[0m\u001b[0;34m[\u001b[0m\u001b[0mz\u001b[0m\u001b[0;34m]\u001b[0m \u001b[0;34m==\u001b[0m \u001b[0;34m' '\u001b[0m\u001b[0;34m:\u001b[0m\u001b[0;34m\u001b[0m\u001b[0;34m\u001b[0m\u001b[0m\n",
            "\u001b[0;32m/usr/local/lib/python3.10/dist-packages/ipykernel/kernelbase.py\u001b[0m in \u001b[0;36mraw_input\u001b[0;34m(self, prompt)\u001b[0m\n\u001b[1;32m    849\u001b[0m                 \u001b[0;34m\"raw_input was called, but this frontend does not support input requests.\"\u001b[0m\u001b[0;34m\u001b[0m\u001b[0;34m\u001b[0m\u001b[0m\n\u001b[1;32m    850\u001b[0m             )\n\u001b[0;32m--> 851\u001b[0;31m         return self._input_request(str(prompt),\n\u001b[0m\u001b[1;32m    852\u001b[0m             \u001b[0mself\u001b[0m\u001b[0;34m.\u001b[0m\u001b[0m_parent_ident\u001b[0m\u001b[0;34m,\u001b[0m\u001b[0;34m\u001b[0m\u001b[0;34m\u001b[0m\u001b[0m\n\u001b[1;32m    853\u001b[0m             \u001b[0mself\u001b[0m\u001b[0;34m.\u001b[0m\u001b[0m_parent_header\u001b[0m\u001b[0;34m,\u001b[0m\u001b[0;34m\u001b[0m\u001b[0;34m\u001b[0m\u001b[0m\n",
            "\u001b[0;32m/usr/local/lib/python3.10/dist-packages/ipykernel/kernelbase.py\u001b[0m in \u001b[0;36m_input_request\u001b[0;34m(self, prompt, ident, parent, password)\u001b[0m\n\u001b[1;32m    893\u001b[0m             \u001b[0;32mexcept\u001b[0m \u001b[0mKeyboardInterrupt\u001b[0m\u001b[0;34m:\u001b[0m\u001b[0;34m\u001b[0m\u001b[0;34m\u001b[0m\u001b[0m\n\u001b[1;32m    894\u001b[0m                 \u001b[0;31m# re-raise KeyboardInterrupt, to truncate traceback\u001b[0m\u001b[0;34m\u001b[0m\u001b[0;34m\u001b[0m\u001b[0m\n\u001b[0;32m--> 895\u001b[0;31m                 \u001b[0;32mraise\u001b[0m \u001b[0mKeyboardInterrupt\u001b[0m\u001b[0;34m(\u001b[0m\u001b[0;34m\"Interrupted by user\"\u001b[0m\u001b[0;34m)\u001b[0m \u001b[0;32mfrom\u001b[0m \u001b[0;32mNone\u001b[0m\u001b[0;34m\u001b[0m\u001b[0;34m\u001b[0m\u001b[0m\n\u001b[0m\u001b[1;32m    896\u001b[0m             \u001b[0;32mexcept\u001b[0m \u001b[0mException\u001b[0m \u001b[0;32mas\u001b[0m \u001b[0me\u001b[0m\u001b[0;34m:\u001b[0m\u001b[0;34m\u001b[0m\u001b[0;34m\u001b[0m\u001b[0m\n\u001b[1;32m    897\u001b[0m                 \u001b[0mself\u001b[0m\u001b[0;34m.\u001b[0m\u001b[0mlog\u001b[0m\u001b[0;34m.\u001b[0m\u001b[0mwarning\u001b[0m\u001b[0;34m(\u001b[0m\u001b[0;34m\"Invalid Message:\"\u001b[0m\u001b[0;34m,\u001b[0m \u001b[0mexc_info\u001b[0m\u001b[0;34m=\u001b[0m\u001b[0;32mTrue\u001b[0m\u001b[0;34m)\u001b[0m\u001b[0;34m\u001b[0m\u001b[0;34m\u001b[0m\u001b[0m\n",
            "\u001b[0;31mKeyboardInterrupt\u001b[0m: Interrupted by user"
          ]
        }
      ],
      "source": [
        "\n",
        "    ax.set_ylabel('Y-axis')\n",
        "    ax.set_zlabel('Z-axis')\n",
        "    plt.draw()\n",
        "    plt.pause(0.5)\n",
        "\n",
        "def human_move(board):\n",
        "    while True:\n",
        "        try:\n",
        "            move = input(\"Enter your move (x,y,z): \")\n",
        "            x, y, z = map(int, move.strip().split(\",\"))\n",
        "            if 0 <= x < 3 and 0 <= y < 3 and 0 <= z < 3 and board[x][y][z] == ' ':\n",
        "                return x, y, z\n",
        "            else:\n",
        "                print(\"Invalid move. Please enter coordinates between 0 and 2, separated by commas.\")\n",
        "        except ValueError:\n",
        "            print(\"Invalid input format. Please enter coordinates as x,y,z.\")\n",
        "\n",
        "def check_winner_3d(board, player):\n",
        "    for i in range(3):\n",
        "        if any(all(board[i][j][k] == player for k in range(3)) for j in range(3)) or \\\n",
        "           any(all(board[j][i][k] == player for k in range(3)) for j in range(3)) or \\\n",
        "           all(board[j][j][i] == player for j in range(3)) or \\\n",
        "           all(board[j][2-j][i] == player for j in range(3)):\n",
        "            return True\n",
        "    if all(board[i][i][i] == player for i in range(3)) or \\\n",
        "       all(board[i][i][2-i] == player for i in range(3)) or \\\n",
        "       all(board[i][2-i][i] == player for i in range(3)) or \\\n",
        "       all(board[2-i][i][i] == player for i in range(3)):\n",
        "        return True\n",
        "    return False\n",
        "\n",
        "def is_board_full_3d(board):\n",
        "    return all(board[i][j][k] != ' ' for i in range(3) for j in range(3) for k in range(3))\n",
        "\n",
        "def ai_move_3d(board, player):\n",
        "    available_moves = [(i, j, k) for i in range(3) for j in range(3) for k in range(3) if board[i][j][k] == ' ']\n",
        "    move = random.choice(available_moves)\n",
        "    board[move[0]][move[1]][move[2]] = player\n",
        "\n",
        "def find_winning_or_blocking_move(board, player):\n",
        "    opponent = 'O' if player == 'X' else 'X'\n",
        "    for i in range(3):\n",
        "        for j in range(3):\n",
        "            for k in range(3):\n",
        "                if board[i][j][k] == ' ':\n",
        "                    board[i][j][k] = player\n",
        "                    if check_winner_3d(board, player):\n",
        "                        return i, j, k\n",
        "                    board[i][j][k] = opponent\n",
        "                    if check_winner_3d(board, opponent):\n",
        "                        return i, j, k\n",
        "                    board[i][j][k] = ' '\n",
        "    return None\n",
        "\n",
        "def strategic_ai_move_3d(board, player):\n",
        "    move = find_winning_or_blocking_move(board, player)\n",
        "    if move:\n",
        "        board[move[0]][move[1]][move[2]] = player\n",
        "        return\n",
        "    move = find_winning_or_blocking_move(board, 'O' if player == 'X' else 'X')\n",
        "    if move:\n",
        "        board[move[0]][move[1]][move[2]] = player\n",
        "        return\n",
        "    if board[1][1][1] == ' ':\n",
        "        board[1][1][1] = player\n",
        "        return\n",
        "    ai_move_3d(board, player)\n",
        "\n",
        "def play_3d_game_with_human():\n",
        "    board = initialize_3d_board()\n",
        "    players = ['X', 'O']\n",
        "    turn = 0\n",
        "    winner = None\n",
        "    while not winner and not is_board_full_3d(board):\n",
        "        player = players[turn % 2]\n",
        "        if player == 'X':\n",
        "            print(\"Your turn:\")\n",
        "            x, y, z = human_move(board)\n",
        "            board[x][y][z] = player\n",
        "        else:\n",
        "            print(\"AI's turn:\")\n",
        "            strategic_ai_move_3d(board, player)\n",
        "        draw_3d_board(board)\n",
        "        if check_winner_3d(board, player):\n",
        "            winner = player\n",
        "        turn += 1\n",
        "    if winner == 'X':\n",
        "        print(\"Congratulations! You win!\")\n",
        "    elif winner == 'O':\n",
        "        print(\"Machine wins!\")\n",
        "    else:\n",
        "        print(\"It's a draw!\")\n",
        "\n",
        "play_3d_game_with_human()\n"
      ]
    },
    {
      "cell_type": "code",
      "source": [
        "import random\n",
        "import matplotlib.pyplot as plt\n",
        "import numpy as np\n",
        "import ipywidgets as widgets\n",
        "from IPython.display import display, clear_output\n",
        "\n",
        "# Function to initialize the board\n",
        "def initialize_board():\n",
        "    return [[' ' for _ in range(3)] for _ in range(3)]\n",
        "\n",
        "# Function to draw the Tic Tac Toe board\n",
        "def draw_board(board, ax):\n",
        "    ax.cla()  # Clear the previous board\n",
        "    ax.matshow(np.zeros((3, 3)), cmap=\"Blues\", vmin=-1, vmax=1)\n",
        "\n",
        "    for i in range(3):\n",
        "        for j in range(3):\n",
        "            c = board[i][j]\n",
        "            ax.text(j, i, c, va='center', ha='center', fontsize=36)\n",
        "\n",
        "    ax.set_xticks([0.5, 1.5, 2.5])\n",
        "    ax.set_xticklabels([])\n",
        "    ax.set_yticks([0.5, 1.5, 2.5])\n",
        "    ax.set_yticklabels([])\n",
        "    ax.grid(color='black')\n",
        "\n",
        "# Function to check if there's a winner\n",
        "def check_winner(board, player):\n",
        "    # Check rows, columns, and diagonals\n",
        "    for i in range(3):\n",
        "        if all([board[i][j] == player for j in range(3)]) or \\\n",
        "           all([board[j][i] == player for j in range(3)]):\n",
        "            return True\n",
        "\n",
        "    if all([board[i][i] == player for i in range(3)]) or \\\n",
        "       all([board[i][2 - i] == player for i in range(3)]):\n",
        "        return True\n",
        "\n",
        "    return False\n",
        "\n",
        "# Function to check if the board is full\n",
        "def is_board_full(board):\n",
        "    return all(board[i][j] != ' ' for i in range(3) for j in range(3))\n",
        "\n",
        "# AI logic to make a move\n",
        "def ai_move(board, player):\n",
        "    available_moves = [(i, j) for i in range(3) for j in range(3) if board[i][j] == ' ']\n",
        "    move = random.choice(available_moves)\n",
        "    board[move[0]][move[1]] = player\n",
        "\n",
        "def interactive_play_game():\n",
        "    board = initialize_board()\n",
        "    players = ['X', 'O']\n",
        "    turn = 0\n",
        "    winner = None\n",
        "\n",
        "    # Create an output widget to display the game board\n",
        "    out = widgets.Output()\n",
        "    display(out)\n",
        "\n",
        "    while not winner and not is_board_full(board):\n",
        "        with out:\n",
        "            clear_output(wait=True)\n",
        "            fig, ax = plt.subplots(figsize=(6, 6))\n",
        "            player = players[turn % 2]\n",
        "            ai_move(board, player)\n",
        "            draw_board(board, ax)\n",
        "            plt.show()\n",
        "\n",
        "            if check_winner(board, player):\n",
        "                winner = player\n",
        "            turn += 1\n",
        "\n",
        "    with out:\n",
        "        if winner:\n",
        "            print(f\"Player {winner} wins!\")\n",
        "        else:\n",
        "            print(\"It's a draw!\")\n",
        "\n",
        "# Run the game\n",
        "interactive_play_game()\n"
      ],
      "metadata": {
        "colab": {
          "base_uri": "https://localhost:8080/",
          "height": 527,
          "referenced_widgets": [
            "5b044f34563e4aafa03119d2f9e3b345",
            "18279435ca5b4554a619962512fc905d"
          ]
        },
        "id": "INc_w6nKBBEt",
        "outputId": "06bb400a-1535-40d0-f1d6-1bb4a3b5699f"
      },
      "execution_count": 6,
      "outputs": [
        {
          "output_type": "display_data",
          "data": {
            "text/plain": [
              "Output()"
            ],
            "application/vnd.jupyter.widget-view+json": {
              "version_major": 2,
              "version_minor": 0,
              "model_id": "5b044f34563e4aafa03119d2f9e3b345"
            }
          },
          "metadata": {}
        }
      ]
    },
    {
      "cell_type": "code",
      "source": [
        "# ... [previous functions remain unchanged]\n",
        "\n",
        "def run_games(n):\n",
        "    results = {\"X\": 0, \"O\": 0, \"Draw\": 0}\n",
        "\n",
        "    for i in range(n):\n",
        "        print(f\"Playing game {i + 1}...\")\n",
        "        winner = interactive_play_game()\n",
        "        results[winner] += 1\n",
        "\n",
        "    # Display summary\n",
        "    print(\"\\nSummary:\")\n",
        "    for key, value in results.items():\n",
        "        print(f\"{key}: {value} wins\")\n",
        "\n",
        "def interactive_play_game():\n",
        "    board = initialize_board()\n",
        "    players = ['X', 'O']\n",
        "    turn = 0\n",
        "    winner = None\n",
        "\n",
        "    # Create an output widget to display the game board\n",
        "    out = widgets.Output()\n",
        "    display(out)\n",
        "\n",
        "    while not winner and not is_board_full(board):\n",
        "        with out:\n",
        "            clear_output(wait=True)\n",
        "            fig, ax = plt.subplots(figsize=(6, 6))\n",
        "            player = players[turn % 2]\n",
        "            ai_move(board, player)\n",
        "            draw_board(board, ax)\n",
        "            plt.show()\n",
        "\n",
        "            if check_winner(board, player):\n",
        "                winner = player\n",
        "            turn += 1\n",
        "\n",
        "    with out:\n",
        "        if winner:\n",
        "            print(f\"Player {winner} wins!\")\n",
        "        else:\n",
        "            print(\"It's a draw!\")\n",
        "            winner = \"Draw\"\n",
        "\n",
        "    return winner\n",
        "\n",
        "# Example: Run the game 5 times\n",
        "run_games(5)\n"
      ],
      "metadata": {
        "colab": {
          "base_uri": "https://localhost:8080/",
          "height": 1000,
          "referenced_widgets": [
            "6cf2cdb742d54ad29944d6ad35fd83c6",
            "0f112ca8eeee4c5aa400b28591c14f54",
            "df20ee8a2f79480680cb65cf7c39ba9b",
            "d353ce9be7ce4311afcf8302f7da0051",
            "fd9b163c1eeb47f1815020dd66f94eaa",
            "0ab115fa8d014b809fd5120f54e1c7af",
            "0b6c8a6e828343c6a4666208fa01dfd8",
            "47466b1117fc4667853bf2e8791b2ad7",
            "276ac9518a2344fc892818e2b38faafc",
            "6f52916f45aa4114b5dcb60ea74d1788"
          ]
        },
        "id": "be1N7iM2B7_a",
        "outputId": "118b6c63-be52-42c0-9158-b2e226129601"
      },
      "execution_count": 7,
      "outputs": [
        {
          "output_type": "stream",
          "name": "stdout",
          "text": [
            "Playing game 1...\n"
          ]
        },
        {
          "output_type": "display_data",
          "data": {
            "text/plain": [
              "Output()"
            ],
            "application/vnd.jupyter.widget-view+json": {
              "version_major": 2,
              "version_minor": 0,
              "model_id": "6cf2cdb742d54ad29944d6ad35fd83c6"
            }
          },
          "metadata": {}
        },
        {
          "output_type": "stream",
          "name": "stdout",
          "text": [
            "Playing game 2...\n"
          ]
        },
        {
          "output_type": "display_data",
          "data": {
            "text/plain": [
              "Output()"
            ],
            "application/vnd.jupyter.widget-view+json": {
              "version_major": 2,
              "version_minor": 0,
              "model_id": "df20ee8a2f79480680cb65cf7c39ba9b"
            }
          },
          "metadata": {}
        },
        {
          "output_type": "stream",
          "name": "stdout",
          "text": [
            "Playing game 3...\n"
          ]
        },
        {
          "output_type": "display_data",
          "data": {
            "text/plain": [
              "Output()"
            ],
            "application/vnd.jupyter.widget-view+json": {
              "version_major": 2,
              "version_minor": 0,
              "model_id": "fd9b163c1eeb47f1815020dd66f94eaa"
            }
          },
          "metadata": {}
        },
        {
          "output_type": "stream",
          "name": "stdout",
          "text": [
            "Playing game 4...\n"
          ]
        },
        {
          "output_type": "display_data",
          "data": {
            "text/plain": [
              "Output()"
            ],
            "application/vnd.jupyter.widget-view+json": {
              "version_major": 2,
              "version_minor": 0,
              "model_id": "0b6c8a6e828343c6a4666208fa01dfd8"
            }
          },
          "metadata": {}
        },
        {
          "output_type": "stream",
          "name": "stdout",
          "text": [
            "Playing game 5...\n"
          ]
        },
        {
          "output_type": "display_data",
          "data": {
            "text/plain": [
              "Output()"
            ],
            "application/vnd.jupyter.widget-view+json": {
              "version_major": 2,
              "version_minor": 0,
              "model_id": "276ac9518a2344fc892818e2b38faafc"
            }
          },
          "metadata": {}
        },
        {
          "output_type": "stream",
          "name": "stdout",
          "text": [
            "\n",
            "Summary:\n",
            "X: 3 wins\n",
            "O: 0 wins\n",
            "Draw: 2 wins\n"
          ]
        }
      ]
    },
    {
      "cell_type": "code",
      "source": [
        "def run_games(n):\n",
        "    results = {\"X\": 0, \"O\": 0, \"Draw\": 0}\n",
        "\n",
        "    # Create an output widget to display the game board once\n",
        "    out = widgets.Output()\n",
        "    display(out)\n",
        "\n",
        "    for i in range(n):\n",
        "        print(f\"Playing game {i + 1}...\")\n",
        "        winner = interactive_play_game(out)\n",
        "        results[winner] += 1\n",
        "\n",
        "    # Display summary\n",
        "    print(\"\\nSummary:\")\n",
        "    for key, value in results.items():\n",
        "        print(f\"{key}: {value} wins\")\n",
        "\n",
        "def interactive_play_game(out):\n",
        "    board = initialize_board()\n",
        "    players = ['X', 'O']\n",
        "    turn = 0\n",
        "    winner = None\n",
        "\n",
        "    while not winner and not is_board_full(board):\n",
        "        with out:\n",
        "            clear_output(wait=True)\n",
        "            fig, ax = plt.subplots(figsize=(6, 6))\n",
        "            player = players[turn % 2]\n",
        "            ai_move(board, player)\n",
        "            draw_board(board, ax)\n",
        "            plt.show()\n",
        "\n",
        "            if check_winner(board, player):\n",
        "                winner = player\n",
        "            turn += 1\n",
        "\n",
        "    with out:\n",
        "        if winner:\n",
        "            print(f\"Player {winner} wins!\")\n",
        "        else:\n",
        "            print(\"It's a draw!\")\n",
        "            winner = \"Draw\"\n",
        "\n",
        "    return winner\n",
        "\n",
        "# Example: Run the game 5 times\n",
        "run_games(5)\n"
      ],
      "metadata": {
        "colab": {
          "base_uri": "https://localhost:8080/",
          "height": 715,
          "referenced_widgets": [
            "eb0603f8460e436aba8683c162598e38",
            "fac55e7cefcc42c394e98d0cb175c6bf"
          ]
        },
        "id": "jSm894XHCSsi",
        "outputId": "26b55bff-30c3-46ae-a600-4612cc92149f"
      },
      "execution_count": 14,
      "outputs": [
        {
          "output_type": "display_data",
          "data": {
            "text/plain": [
              "Output()"
            ],
            "application/vnd.jupyter.widget-view+json": {
              "version_major": 2,
              "version_minor": 0,
              "model_id": "eb0603f8460e436aba8683c162598e38"
            }
          },
          "metadata": {}
        },
        {
          "output_type": "stream",
          "name": "stdout",
          "text": [
            "Playing game 1...\n",
            "Playing game 2...\n",
            "Playing game 3...\n",
            "Playing game 4...\n",
            "Playing game 5...\n",
            "\n",
            "Summary:\n",
            "X: 2 wins\n",
            "O: 3 wins\n",
            "Draw: 0 wins\n"
          ]
        }
      ]
    }
  ]
}